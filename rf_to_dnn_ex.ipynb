{
 "cells": [
  {
   "cell_type": "code",
   "execution_count": 10,
   "metadata": {},
   "outputs": [
    {
     "name": "stdout",
     "output_type": "stream",
     "text": [
      "The autoreload extension is already loaded. To reload it, use:\n",
      "  %reload_ext autoreload\n"
     ]
    }
   ],
   "source": [
    "%load_ext autoreload\n",
    "%autoreload 2\n",
    "\n",
    "from tqdm import tqdm\n",
    "import matplotlib.pyplot as plt\n",
    "import numpy as np\n",
    "import pickle as pkl\n",
    "from os.path import join as oj\n",
    "from copy import deepcopy\n",
    "import pandas as pd\n",
    "from numpy import array as arr\n",
    "import time\n",
    "\n",
    "# sklearn models\n",
    "from sklearn.ensemble import RandomForestClassifier, RandomForestRegressor\n",
    "from sklearn.tree import export_graphviz, DecisionTreeClassifier, DecisionTreeRegressor\n",
    "from sklearn.tree import plot_tree\n",
    "\n",
    "import torch\n",
    "from torch import nn\n",
    "from util import t, to_sparse\n",
    "\n",
    "import predict\n",
    "from rf_to_dnn import Net"
   ]
  },
  {
   "cell_type": "code",
   "execution_count": 18,
   "metadata": {},
   "outputs": [
    {
     "name": "stdout",
     "output_type": "stream",
     "text": [
      "success!\n"
     ]
    }
   ],
   "source": [
    "np.random.seed(13)\n",
    "\n",
    "\n",
    "num_features = 4\n",
    "N = 1000\n",
    "max_depth = 100\n",
    "\n",
    "# prepare data\n",
    "X = np.random.rand(N, num_features)\n",
    "y = np.random.rand(N)\n",
    "X_t = torch.Tensor(X)\n",
    "\n",
    "# train rf\n",
    "rf = DecisionTreeRegressor(max_depth=max_depth)\n",
    "rf.fit(X, y)\n",
    "\n",
    "\n",
    "# pepare net\n",
    "net = Net(rf)\n",
    "\n",
    "\n",
    "# check if preds are close\n",
    "preds_rf = rf.predict(X).flatten()\n",
    "preds_net = net(X_t).detach().numpy().flatten()\n",
    "\n",
    "if np.isclose(preds_rf, preds_net).all():\n",
    "    print('success!')\n",
    "else:\n",
    "    print('fail')"
   ]
  }
 ],
 "metadata": {
  "kernelspec": {
   "display_name": "Python 3",
   "language": "python",
   "name": "python3"
  },
  "language_info": {
   "codemirror_mode": {
    "name": "ipython",
    "version": 3
   },
   "file_extension": ".py",
   "mimetype": "text/x-python",
   "name": "python",
   "nbconvert_exporter": "python",
   "pygments_lexer": "ipython3",
   "version": "3.7.0"
  }
 },
 "nbformat": 4,
 "nbformat_minor": 2
}
