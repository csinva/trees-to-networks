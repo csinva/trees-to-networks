{
 "cells": [
  {
   "cell_type": "code",
   "execution_count": 1,
   "metadata": {},
   "outputs": [],
   "source": [
    "%load_ext autoreload\n",
    "%autoreload 2\n",
    "\n",
    "from tqdm import tqdm\n",
    "import matplotlib.pyplot as plt\n",
    "import numpy as np\n",
    "import pickle as pkl\n",
    "from os.path import join as oj\n",
    "from copy import deepcopy\n",
    "import pandas as pd\n",
    "from numpy import array as arr\n",
    "import time\n",
    "\n",
    "# sklearn models\n",
    "from sklearn.ensemble import RandomForestClassifier, RandomForestRegressor\n",
    "from sklearn.tree import export_graphviz, DecisionTreeClassifier, DecisionTreeRegressor\n",
    "from sklearn.tree import plot_tree\n",
    "\n",
    "import torch\n",
    "from torch import nn\n",
    "from util import t, to_sparse\n",
    "\n",
    "import predict\n",
    "from rf_to_dnn import Net"
   ]
  },
  {
   "cell_type": "code",
   "execution_count": null,
   "metadata": {},
   "outputs": [],
   "source": [
    "def f1(): rf.predict(X)\n",
    "def f2(): predict.f_torch_basic(net, X_t)\n",
    "def f3(): predict.f_torch_basic(netg, X_tg)\n",
    "def f4(): predict.f_np_basic(X, idxs0, b0, w1, b1, idxs2)\n",
    "def f5(): predict.f_torch_indexing(X_t, idxs0, b0_t, lay1, b1_t, idxs2_t)\n",
    "\n",
    "np.random.seed(13)\n",
    "\n",
    "max_depths = []\n",
    "ts = []\n",
    "# for N in [10, 100, 1000, 10000, 100000]:\n",
    "for N in [100]:\n",
    "    num_features = 4\n",
    "#     N = 1000\n",
    "    max_depth = 100\n",
    "\n",
    "    # prepare data\n",
    "    X = np.random.rand(N, num_features)\n",
    "    y = np.random.rand(N)\n",
    "    X_t = torch.Tensor(X)\n",
    "    X_tg = deepcopy(torch.Tensor(X)).to('cuda')\n",
    "\n",
    "    rf = DecisionTreeRegressor(max_depth=max_depth)\n",
    "    rf.fit(X, y)\n",
    "    print(N, 'max depth', rf.get_depth())\n",
    "    max_depths.append(rf.get_depth())\n",
    "\n",
    "    # plt.scatter(X[:, 0], X[:, 1], c=rf.predict(X))\n",
    "    # plt.show()\n",
    "    # plot_tree(rf.estimators_[0])\n",
    "    # plot_tree(rf)\n",
    "    # plt.show()\n",
    "\n",
    "    # pepare net\n",
    "    net = Net(rf)\n",
    "    b0, idxs0, w1, b1, idxs2 = net.extract_util_np()\n",
    "    idxs0_t, b0_t, lay1, b1_t, idxs2_t = \\\n",
    "        torch.Tensor(idxs0), torch.Tensor(b0), net.layers[1], \\\n",
    "        torch.Tensor(b1), torch.Tensor(idxs2)\n",
    "    netg = deepcopy(net).to('cuda')\n",
    "    net_s = deepcopy(net)\n",
    "    net_s.layers[1].weight.data = to_sparse(net.layers[1].weight)\n",
    "    # w1 = sparse.csr_matrix(w1)\n",
    "    \n",
    "    \n",
    "    timings = {}\n",
    "    for (f, s) in zip([f1, f2, f3, f4, f5], \n",
    "                      ['rf', 't_basic', 't gpu', 'np_basic', 't_ind']):\n",
    "        with torch.no_grad():\n",
    "            timings[s] = t(f)\n",
    "            print(f'\\t{s}\\t{timings[s]:0.2e}')\n",
    "    ts.append(timings)"
   ]
  },
  {
   "cell_type": "code",
   "execution_count": null,
   "metadata": {},
   "outputs": [],
   "source": [
    "if np.isclose(rf.predict(X).flatten(), p3.flatten()).all():\n",
    "    print('success!')\n",
    "else:\n",
    "    print('fail')"
   ]
  }
 ],
 "metadata": {
  "kernelspec": {
   "display_name": "Python 3",
   "language": "python",
   "name": "python3"
  },
  "language_info": {
   "codemirror_mode": {
    "name": "ipython",
    "version": 3
   },
   "file_extension": ".py",
   "mimetype": "text/x-python",
   "name": "python",
   "nbconvert_exporter": "python",
   "pygments_lexer": "ipython3",
   "version": "3.7.0"
  }
 },
 "nbformat": 4,
 "nbformat_minor": 2
}
