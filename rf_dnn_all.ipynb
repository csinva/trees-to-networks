{
 "cells": [
  {
   "cell_type": "code",
   "execution_count": 1,
   "metadata": {},
   "outputs": [],
   "source": [
    "%load_ext autoreload\n",
    "%autoreload 2\n",
    "\n",
    "from tqdm import tqdm\n",
    "import matplotlib.pyplot as plt\n",
    "# import seaborn as sns\n",
    "import pmlb as dsets\n",
    "import numpy as np\n",
    "import pickle as pkl\n",
    "from os.path import join as oj\n",
    "from copy import deepcopy\n",
    "import pandas as pd\n",
    "from numpy import array as arr\n",
    "import time\n",
    "\n",
    "# sklearn models\n",
    "from sklearn.linear_model import LogisticRegression\n",
    "from sklearn.naive_bayes import GaussianNB\n",
    "from sklearn.model_selection import train_test_split\n",
    "from sklearn.ensemble import RandomForestClassifier, RandomForestRegressor\n",
    "from scipy import interpolate\n",
    "from sklearn.tree import export_graphviz, DecisionTreeClassifier, DecisionTreeRegressor\n",
    "from sklearn.tree import plot_tree\n",
    "\n",
    "import torch\n",
    "from torch import nn\n",
    "from util import t, to_sparse\n",
    "\n",
    "import predict\n",
    "from rf_to_dnn import Net"
   ]
  },
  {
   "cell_type": "code",
   "execution_count": 30,
   "metadata": {},
   "outputs": [
    {
     "name": "stdout",
     "output_type": "stream",
     "text": [
      "0.9999999989409366\n"
     ]
    },
    {
     "data": {
      "text/plain": [
       "35"
      ]
     },
     "execution_count": 30,
     "metadata": {},
     "output_type": "execute_result"
    }
   ],
   "source": [
    "np.random.seed(13)\n",
    "num_features = 4\n",
    "N = 1000\n",
    "X = np.random.rand(N, num_features)\n",
    "# y = np.logical_xor(X[:, 0] > 0.5, X[:, 1] > 0.5)\n",
    "y = np.random.rand(N)\n",
    "# plt.scatter(X[:, 0], X[:, 1], c=y)\n",
    "# plt.show()\n",
    "\n",
    "rf = DecisionTreeRegressor(max_depth=50)\n",
    "rf.fit(X, y)\n",
    "print(rf.score(X, y), 'max depth', rf.get_depth())\n",
    "\n",
    "# plt.scatter(X[:, 0], X[:, 1], c=rf.predict(X))\n",
    "# plt.show()\n",
    "# plot_tree(rf.estimators_[0])\n",
    "# plot_tree(rf)\n",
    "# plt.show()"
   ]
  },
  {
   "cell_type": "code",
   "execution_count": 17,
   "metadata": {},
   "outputs": [],
   "source": [
    "net = Net(rf)\n",
    "b0, idxs0, w1, b1, idxs2 = net.extract_util_np()\n",
    "idxs0_t, b0_t, lay1, b1_t, idxs2_t = \\\n",
    "    torch.Tensor(idxs0), torch.Tensor(b0), net.layers[1], \\\n",
    "    torch.Tensor(b1), torch.Tensor(idxs2)\n",
    "# w1 = sparse.csr_matrix(w1)"
   ]
  },
  {
   "cell_type": "code",
   "execution_count": 18,
   "metadata": {},
   "outputs": [],
   "source": [
    "X_t = torch.Tensor(X)\n",
    "X_tg = deepcopy(torch.Tensor(X)).to('cuda')\n",
    "netg = deepcopy(net).to('cuda')\n",
    "net_s = deepcopy(net)\n",
    "net_s.layers[1].weight.data = to_sparse(net.layers[1].weight)"
   ]
  },
  {
   "cell_type": "code",
   "execution_count": 28,
   "metadata": {},
   "outputs": [
    {
     "name": "stdout",
     "output_type": "stream",
     "text": [
      "t1: 1.77e-03, t2: 3.15e-02 t3: 8.90e-02\n",
      "t1: 1.30e-02, t2: 4.39e-02 t3: 7.53e-02\n"
     ]
    }
   ],
   "source": [
    "with torch.no_grad():\n",
    "    p1 = predict.f_torch_basic(net, X_t).detach().numpy()\n",
    "    p2 = predict.f_np_basic(X, idxs0, b0, w1, b1, idxs2)\n",
    "    p3 = predict.f_torch_indexing(X_t, idxs0, b0_t, lay1, b1_t, idxs2_t)\n",
    "    # preds = forward_np(X[:10]) #, thresh, idxs, w, b)"
   ]
  },
  {
   "cell_type": "code",
   "execution_count": 25,
   "metadata": {},
   "outputs": [
    {
     "name": "stdout",
     "output_type": "stream",
     "text": [
      "t1: 1.43e-02, t2: 3.54e-02 t3: 9.17e-02\n"
     ]
    }
   ],
   "source": []
  },
  {
   "cell_type": "code",
   "execution_count": 26,
   "metadata": {},
   "outputs": [
    {
     "name": "stdout",
     "output_type": "stream",
     "text": [
      "success!\n"
     ]
    }
   ],
   "source": [
    "if np.isclose(rf.predict(X).flatten(), p3.flatten()).all():\n",
    "    print('success!')\n",
    "else:\n",
    "    print('fail')"
   ]
  },
  {
   "cell_type": "code",
   "execution_count": null,
   "metadata": {},
   "outputs": [],
   "source": [
    "def f1(): rf.predict(X)\n",
    "def f2(): \n",
    "    with torch.no_grad(): \n",
    "        net(X_t)\n",
    "def f3(): \n",
    "    with torch.no_grad(): \n",
    "        forward_np(X)\n",
    "        \n",
    "print(f'rf: \\t\\t{t(f1):0.2e}\\n\\\n",
    "dnn cpu: \\t{t(f2):0.2e}\\n\\\n",
    "dnn np: \\t{t(f3):0.2e}\\n')"
   ]
  }
 ],
 "metadata": {
  "kernelspec": {
   "display_name": "Python 3",
   "language": "python",
   "name": "python3"
  },
  "language_info": {
   "codemirror_mode": {
    "name": "ipython",
    "version": 3
   },
   "file_extension": ".py",
   "mimetype": "text/x-python",
   "name": "python",
   "nbconvert_exporter": "python",
   "pygments_lexer": "ipython3",
   "version": "3.7.0"
  }
 },
 "nbformat": 4,
 "nbformat_minor": 2
}
